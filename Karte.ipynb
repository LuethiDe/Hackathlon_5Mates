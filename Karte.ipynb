{
 "cells": [
  {
   "cell_type": "markdown",
   "metadata": {},
   "source": [
    "## Imports"
   ]
  },
  {
   "cell_type": "code",
   "execution_count": 1,
   "metadata": {},
   "outputs": [],
   "source": [
    "import folium"
   ]
  },
  {
   "cell_type": "markdown",
   "metadata": {},
   "source": [
    "## Hauptcode"
   ]
  },
  {
   "cell_type": "code",
   "execution_count": 18,
   "metadata": {},
   "outputs": [
    {
     "ename": "TypeError",
     "evalue": "folium.utilities.parse_options() got multiple values for keyword argument 'attribution'",
     "output_type": "error",
     "traceback": [
      "\u001b[1;31m---------------------------------------------------------------------------\u001b[0m",
      "\u001b[1;31mTypeError\u001b[0m                                 Traceback (most recent call last)",
      "Cell \u001b[1;32mIn[18], line 10\u001b[0m\n\u001b[0;32m      7\u001b[0m st_layer \u001b[38;5;241m=\u001b[39m folium\u001b[38;5;241m.\u001b[39mTileLayer(name\u001b[38;5;241m=\u001b[39m\u001b[38;5;124m\"\u001b[39m\u001b[38;5;124mSwisstopo\u001b[39m\u001b[38;5;124m\"\u001b[39m, tiles\u001b[38;5;241m=\u001b[39mtile_url, attr\u001b[38;5;241m=\u001b[39m\u001b[38;5;124m\"\u001b[39m\u001b[38;5;124mswisstopo\u001b[39m\u001b[38;5;124m\"\u001b[39m)\n\u001b[0;32m      8\u001b[0m st_layer\u001b[38;5;241m.\u001b[39madd_to(map_with_layers)\n\u001b[1;32m---> 10\u001b[0m wms_layer \u001b[38;5;241m=\u001b[39m \u001b[43mfolium\u001b[49m\u001b[38;5;241;43m.\u001b[39;49m\u001b[43mWmsTileLayer\u001b[49m\u001b[43m(\u001b[49m\n\u001b[0;32m     11\u001b[0m \u001b[43m    \u001b[49m\u001b[43murl\u001b[49m\u001b[38;5;241;43m=\u001b[39;49m\u001b[38;5;124;43m\"\u001b[39;49m\u001b[38;5;124;43mhttps://wms.geo.admin.ch/\u001b[39;49m\u001b[38;5;124;43m\"\u001b[39;49m\u001b[43m,\u001b[49m\n\u001b[0;32m     12\u001b[0m \u001b[43m    \u001b[49m\u001b[43mname\u001b[49m\u001b[38;5;241;43m=\u001b[39;49m\u001b[38;5;124;43m\"\u001b[39;49m\u001b[38;5;124;43mSwisstopo WMS\u001b[39;49m\u001b[38;5;124;43m\"\u001b[39;49m\u001b[43m,\u001b[49m\n\u001b[0;32m     13\u001b[0m \u001b[43m    \u001b[49m\u001b[43mlayers\u001b[49m\u001b[38;5;241;43m=\u001b[39;49m\u001b[38;5;124;43m\"\u001b[39;49m\u001b[38;5;124;43mch.swisstopo.pixelkarte-farbe\u001b[39;49m\u001b[38;5;124;43m\"\u001b[39;49m\u001b[43m,\u001b[49m\u001b[43m  \u001b[49m\u001b[38;5;66;43;03m# Layername aus GetCapabilities\u001b[39;49;00m\n\u001b[0;32m     14\u001b[0m \u001b[43m    \u001b[49m\u001b[43mfmt\u001b[49m\u001b[38;5;241;43m=\u001b[39;49m\u001b[38;5;124;43m\"\u001b[39;49m\u001b[38;5;124;43mimage/png\u001b[39;49m\u001b[38;5;124;43m\"\u001b[39;49m\u001b[43m,\u001b[49m\n\u001b[0;32m     15\u001b[0m \u001b[43m    \u001b[49m\u001b[43mtransparent\u001b[49m\u001b[38;5;241;43m=\u001b[39;49m\u001b[38;5;28;43;01mTrue\u001b[39;49;00m\u001b[43m,\u001b[49m\n\u001b[0;32m     16\u001b[0m \u001b[43m    \u001b[49m\u001b[43mversion\u001b[49m\u001b[38;5;241;43m=\u001b[39;49m\u001b[38;5;124;43m\"\u001b[39;49m\u001b[38;5;124;43m1.3.0\u001b[39;49m\u001b[38;5;124;43m\"\u001b[39;49m\u001b[43m,\u001b[49m\n\u001b[0;32m     17\u001b[0m \u001b[43m    \u001b[49m\u001b[43mattribution\u001b[49m\u001b[38;5;241;43m=\u001b[39;49m\u001b[38;5;124;43m\"\u001b[39;49m\u001b[38;5;124;43m© swisstopo\u001b[39;49m\u001b[38;5;124;43m\"\u001b[39;49m\u001b[43m)\u001b[49m\n\u001b[0;32m     18\u001b[0m wms_layer\u001b[38;5;241m.\u001b[39madd_to(map_with_layers)\n\u001b[0;32m     20\u001b[0m geojson_path \u001b[38;5;241m=\u001b[39m \u001b[38;5;124m\"\u001b[39m\u001b[38;5;124mswissBOUNDARIES3D_1_3_TLM_KANTONSGEBIET.geojson\u001b[39m\u001b[38;5;124m\"\u001b[39m\n",
      "File \u001b[1;32mc:\\Users\\laraf\\anaconda3\\envs\\geopython310\\lib\\site-packages\\folium\\raster_layers.py:226\u001b[0m, in \u001b[0;36mWmsTileLayer.__init__\u001b[1;34m(self, url, layers, styles, fmt, transparent, version, attr, name, overlay, control, show, **kwargs)\u001b[0m\n\u001b[0;32m    224\u001b[0m kwargs[\u001b[38;5;124m\"\u001b[39m\u001b[38;5;124mformat\u001b[39m\u001b[38;5;124m\"\u001b[39m] \u001b[38;5;241m=\u001b[39m fmt\n\u001b[0;32m    225\u001b[0m cql_filter \u001b[38;5;241m=\u001b[39m kwargs\u001b[38;5;241m.\u001b[39mpop(\u001b[38;5;124m\"\u001b[39m\u001b[38;5;124mcql_filter\u001b[39m\u001b[38;5;124m\"\u001b[39m, \u001b[38;5;28;01mNone\u001b[39;00m)\n\u001b[1;32m--> 226\u001b[0m \u001b[38;5;28mself\u001b[39m\u001b[38;5;241m.\u001b[39moptions \u001b[38;5;241m=\u001b[39m parse_options(\n\u001b[0;32m    227\u001b[0m     layers\u001b[38;5;241m=\u001b[39mlayers,\n\u001b[0;32m    228\u001b[0m     styles\u001b[38;5;241m=\u001b[39mstyles,\n\u001b[0;32m    229\u001b[0m     transparent\u001b[38;5;241m=\u001b[39mtransparent,\n\u001b[0;32m    230\u001b[0m     version\u001b[38;5;241m=\u001b[39mversion,\n\u001b[0;32m    231\u001b[0m     attribution\u001b[38;5;241m=\u001b[39mattr,\n\u001b[0;32m    232\u001b[0m     \u001b[38;5;241m*\u001b[39m\u001b[38;5;241m*\u001b[39mkwargs,\n\u001b[0;32m    233\u001b[0m )\n\u001b[0;32m    234\u001b[0m \u001b[38;5;66;03m# special parameter that shouldn't be camelized\u001b[39;00m\n\u001b[0;32m    235\u001b[0m \u001b[38;5;28;01mif\u001b[39;00m cql_filter:\n",
      "\u001b[1;31mTypeError\u001b[0m: folium.utilities.parse_options() got multiple values for keyword argument 'attribution'"
     ]
    }
   ],
   "source": [
    "map_with_layers = folium.Map(location=[46.8,8.3], zoom_start=8, control_scale=True)\n",
    "\n",
    "openstreetmap_layer = folium.TileLayer('OpenStreetMap')\n",
    "openstreetmap_layer.add_to(map_with_layers)\n",
    "\n",
    "tile_url=\"https://wmts.geo.admin.ch/1.0.0/ch.swisstopo.pixelkarte-farbe/default/current/3857/{z}/{x}/{y}.jpeg\"\n",
    "st_layer = folium.TileLayer(name=\"Swisstopo\", tiles=tile_url, attr=\"swisstopo\")\n",
    "st_layer.add_to(map_with_layers)\n",
    "\n",
    "wms_layer = folium.WmsTileLayer(\n",
    "    url=\"https://wms.geo.admin.ch/\",\n",
    "    name=\"Swisstopo WMS\",\n",
    "    layers=\"ch.swisstopo.pixelkarte-farbe\",  # Layername aus GetCapabilities\n",
    "    fmt=\"image/png\",\n",
    "    transparent=True,\n",
    "    version=\"1.3.0\",\n",
    "    attribution=\"© swisstopo\")\n",
    "wms_layer.add_to(map_with_layers)\n",
    "\n",
    "geojson_path = \"swissBOUNDARIES3D_1_3_TLM_KANTONSGEBIET.geojson\"\n",
    "\n",
    "folium.GeoJson(\n",
    "    geojson_path,\n",
    "    name=\"Kantonsgrenzen\",\n",
    "    tooltip=folium.GeoJsonTooltip(fields=[\"NAME\"], aliases=[\"Kanton:\"]),\n",
    "    style_function=lambda x: {\n",
    "        'fillColor': 'transparent',\n",
    "        'color': 'black',\n",
    "        'weight': 2\n",
    "    }\n",
    ").add_to(map_with_layers)\n",
    "\n",
    "folium.LayerControl().add_to(map_with_layers)\n",
    "map_with_layers"
   ]
  },
  {
   "cell_type": "markdown",
   "metadata": {},
   "source": [
    "## Strimlit"
   ]
  },
  {
   "cell_type": "markdown",
   "metadata": {},
   "source": [
    "## Nice-to-have"
   ]
  }
 ],
 "metadata": {
  "kernelspec": {
   "display_name": "geopython310",
   "language": "python",
   "name": "python3"
  },
  "language_info": {
   "codemirror_mode": {
    "name": "ipython",
    "version": 3
   },
   "file_extension": ".py",
   "mimetype": "text/x-python",
   "name": "python",
   "nbconvert_exporter": "python",
   "pygments_lexer": "ipython3",
   "version": "3.10.16"
  }
 },
 "nbformat": 4,
 "nbformat_minor": 4
}

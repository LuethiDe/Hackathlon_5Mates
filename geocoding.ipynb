{
 "cells": [
  {
   "cell_type": "code",
   "execution_count": null,
   "id": "f34ccc45",
   "metadata": {},
   "outputs": [
    {
     "name": "stdout",
     "output_type": "stream",
     "text": [
      "LV95 Koordinaten für 'Hägendorf 402': Ost (E) = 2631042.25, Nord (N) = 1242515.75\n"
     ]
    }
   ],
   "source": [
    "import requests\n",
    "\n",
    "def get_lv95_coordinates(search_text):\n",
    "    if not search_text:\n",
    "        return None  # Leerer Suchtext, keine Anfrage\n",
    "\n",
    "    url = \"https://api3.geo.admin.ch/rest/services/api/SearchServer\"\n",
    "    params = {\n",
    "        \"searchText\": search_text,\n",
    "        #\"origins\": \"address\",\n",
    "        \"type\": \"locations\",\n",
    "        \"sr\": \"2056\"\n",
    "    }\n",
    "\n",
    "    response = requests.get(url, params=params)\n",
    "\n",
    "    if response.status_code == 200:\n",
    "        data = response.json()\n",
    "        try:\n",
    "            # Zugriff auf das erste gefundene Resultat\n",
    "            coords = data[\"results\"][0][\"attrs\"]\n",
    "            x = coords.get(\"y\")  # Achtung: y = Ost (Easting), gemäss API\n",
    "            y = coords.get(\"x\")  # x = Nord (Northing), gemäss API\n",
    "            return x, y\n",
    "        except (IndexError, KeyError):\n",
    "            return None  # Kein Ergebnis oder unerwartete Struktur\n",
    "    else:\n",
    "        print(f\"Fehler: {response.status_code}\")\n",
    "        return None\n",
    "\n",
    "# Beispiel:\n",
    "adresse = \"Hägendorf 402\"\n",
    "lv95 = get_lv95_coordinates(adresse)\n",
    "\n",
    "if lv95:\n",
    "    print(f\"LV95 Koordinaten für '{adresse}': Ost (E) = {lv95[0]}, Nord (N) = {lv95[1]}\")\n",
    "else:\n",
    "    print(\"Keine Koordinaten gefunden.\")\n"
   ]
  }
 ],
 "metadata": {
  "kernelspec": {
   "display_name": "Hackaton_2025",
   "language": "python",
   "name": "python3"
  },
  "language_info": {
   "codemirror_mode": {
    "name": "ipython",
    "version": 3
   },
   "file_extension": ".py",
   "mimetype": "text/x-python",
   "name": "python",
   "nbconvert_exporter": "python",
   "pygments_lexer": "ipython3",
   "version": "3.11.11"
  }
 },
 "nbformat": 4,
 "nbformat_minor": 5
}

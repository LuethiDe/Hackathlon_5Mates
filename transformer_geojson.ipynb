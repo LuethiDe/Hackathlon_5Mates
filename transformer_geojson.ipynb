{
 "cells": [
  {
   "cell_type": "code",
   "execution_count": 1,
   "id": "4289c12a",
   "metadata": {},
   "outputs": [
    {
     "name": "stdout",
     "output_type": "stream",
     "text": [
      "GPKG gefunden: C:\\Users\\sarah\\AppData\\Local\\Temp\\tmp18f10kcw\\swissBOUNDARIES3D_1_5_LV95_LN02.gpkg\n"
     ]
    },
    {
     "name": "stderr",
     "output_type": "stream",
     "text": [
      "c:\\Users\\sarah\\anaconda3\\envs\\4040_geopython310\\lib\\site-packages\\pyogrio\\geopandas.py:265: UserWarning: More than one layer found in 'swissBOUNDARIES3D_1_5_LV95_LN02.gpkg': 'tlm_hoheitsgrenze' (default), 'tlm_hoheitsgebiet', 'tlm_bezirksgebiet', 'tlm_landesgebiet', 'tlm_kantonsgebiet'. Specify layer parameter to avoid this warning.\n",
      "  result = read_func(\n"
     ]
    },
    {
     "name": "stdout",
     "output_type": "stream",
     "text": [
      "Layer geladen mit CRS: EPSG:2056\n",
      "GeoJSON gespeichert unter: swissBOUNDARIES3D_1_3_TLM_GEMEINDEGRENZEN.geojson\n"
     ]
    }
   ],
   "source": [
    "import zipfile\n",
    "import os\n",
    "import tempfile\n",
    "import geopandas as gpd\n",
    "\n",
    "def zip_gpkg_to_geojson(zip_pfad, geojson_pfad, layername=None):\n",
    "    # Temporäres Verzeichnis zum Entpacken\n",
    "    with tempfile.TemporaryDirectory() as tmpdir:\n",
    "        # ZIP entpacken\n",
    "        with zipfile.ZipFile(zip_pfad, 'r') as zip_ref:\n",
    "            zip_ref.extractall(tmpdir)\n",
    "\n",
    "        # Suche nach der GPKG-Datei im temporären Ordner\n",
    "        gpkg_datei = None\n",
    "        for root, dirs, files in os.walk(tmpdir):\n",
    "            for file in files:\n",
    "                if file.lower().endswith(\".gpkg\"):\n",
    "                    gpkg_datei = os.path.join(root, file)\n",
    "                    break\n",
    "            if gpkg_datei:\n",
    "                break\n",
    "\n",
    "        if not gpkg_datei:\n",
    "            raise FileNotFoundError(\"Keine .gpkg-Datei im ZIP gefunden!\")\n",
    "\n",
    "        print(f\"GPKG gefunden: {gpkg_datei}\")\n",
    "\n",
    "        # GPKG laden (Layer optional angeben)\n",
    "        gdf = gpd.read_file(gpkg_datei, layer=layername)\n",
    "        print(f\"Layer geladen mit CRS: {gdf.crs}\")\n",
    "\n",
    "        # Falls CRS nicht gesetzt oder falsch: explizit setzen\n",
    "        if gdf.crs is None:\n",
    "            gdf.set_crs(epsg=2056, inplace=True)\n",
    "            print(\"CRS auf EPSG:2056 gesetzt\")\n",
    "\n",
    "        # Transformieren zu WGS84\n",
    "        gdf_wgs84 = gdf.to_crs(epsg=4326)\n",
    "\n",
    "        # Speichern als GeoJSON\n",
    "        gdf_wgs84.to_file(geojson_pfad, driver=\"GeoJSON\")\n",
    "        print(f\"GeoJSON gespeichert unter: {geojson_pfad}\")\n",
    "\n",
    "# Beispielnutzung:\n",
    "zip_datei = \"data/swissboundaries3d_2025-04_2056_5728.gpkg.zip\"\n",
    "ausgabe_geojson = \"swissBOUNDARIES3D_1_3_TLM_GEMEINDEGRENZEN.geojson\"\n",
    "\n",
    "zip_gpkg_to_geojson(zip_datei, ausgabe_geojson)\n"
   ]
  }
 ],
 "metadata": {
  "kernelspec": {
   "display_name": "4040_geopython310",
   "language": "python",
   "name": "python3"
  },
  "language_info": {
   "codemirror_mode": {
    "name": "ipython",
    "version": 3
   },
   "file_extension": ".py",
   "mimetype": "text/x-python",
   "name": "python",
   "nbconvert_exporter": "python",
   "pygments_lexer": "ipython3",
   "version": "3.10.16"
  }
 },
 "nbformat": 4,
 "nbformat_minor": 5
}

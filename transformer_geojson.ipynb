{
 "cells": [
  {
   "cell_type": "code",
   "execution_count": 5,
   "id": "4289c12a",
   "metadata": {},
   "outputs": [
    {
     "name": "stdout",
     "output_type": "stream",
     "text": [
      "GPKG gefunden: C:\\Users\\sarah\\AppData\\Local\\Temp\\tmpn7kej_2u\\swissBOUNDARIES3D_1_5_LV95_LN02.gpkg\n",
      "Verfügbare Layer:\n",
      " - tlm_hoheitsgrenze\n",
      " - tlm_hoheitsgebiet\n",
      " - tlm_bezirksgebiet\n",
      " - tlm_landesgebiet\n",
      " - tlm_kantonsgebiet\n",
      "Gefundene Namensspalte(n): ['name']\n",
      "GeoJSON erfolgreich gespeichert unter: data/swissBOUNDARIES3D_1_3_TLM_GEMEINDEGEBIET.geojson\n"
     ]
    }
   ],
   "source": [
    "import zipfile\n",
    "import os\n",
    "import tempfile\n",
    "import geopandas as gpd\n",
    "import fiona\n",
    "\n",
    "def zip_gpkg_to_geojson_with_names(zip_pfad, geojson_pfad):\n",
    "    # Temporäres Verzeichnis zum Entpacken\n",
    "    with tempfile.TemporaryDirectory() as tmpdir:\n",
    "        # ZIP entpacken\n",
    "        with zipfile.ZipFile(zip_pfad, 'r') as zip_ref:\n",
    "            zip_ref.extractall(tmpdir)\n",
    "\n",
    "        # GPKG-Datei finden\n",
    "        gpkg_datei = None\n",
    "        for root, dirs, files in os.walk(tmpdir):\n",
    "            for file in files:\n",
    "                if file.lower().endswith(\".gpkg\"):\n",
    "                    gpkg_datei = os.path.join(root, file)\n",
    "                    break\n",
    "            if gpkg_datei:\n",
    "                break\n",
    "\n",
    "        if not gpkg_datei:\n",
    "            raise FileNotFoundError(\"Keine .gpkg-Datei im ZIP gefunden!\")\n",
    "\n",
    "        print(f\"GPKG gefunden: {gpkg_datei}\")\n",
    "\n",
    "        # Alle Layer auflisten\n",
    "        print(\"Verfügbare Layer:\")\n",
    "        layerliste = fiona.listlayers(gpkg_datei)\n",
    "        for layer in layerliste:\n",
    "            print(f\" - {layer}\")\n",
    "\n",
    "        # Richtiger Layer mit Gemeindeflächen ist in der Regel:\n",
    "        layername = \"tlm_hoheitsgebiet\"  # So heißt er i.d.R. bei Swisstopo\n",
    "        if layername not in layerliste:\n",
    "            raise ValueError(f\"Layer '{layername}' nicht im GPKG gefunden!\")\n",
    "\n",
    "        # GPKG-Layer laden\n",
    "        gdf = gpd.read_file(gpkg_datei, layer=layername)\n",
    "\n",
    "        # Prüfen auf Gemeindename-Spalte\n",
    "        name_spalten = [col for col in gdf.columns if \"name\" in col.lower() or \"gn_na1\" in col.lower()]\n",
    "        if not name_spalten:\n",
    "            raise ValueError(\"Keine Spalte mit Gemeindenamen gefunden!\")\n",
    "        else:\n",
    "            print(f\"Gefundene Namensspalte(n): {name_spalten}\")\n",
    "\n",
    "        # Falls nötig: Spalten umbenennen\n",
    "        gdf = gdf.rename(columns={name_spalten[0]: \"Gemeindename\"})\n",
    "\n",
    "        # Koordinatensystem auf WGS84 (EPSG:4326) transformieren\n",
    "        if gdf.crs is None:\n",
    "            gdf.set_crs(epsg=2056, inplace=True)\n",
    "        gdf = gdf.to_crs(epsg=4326)\n",
    "\n",
    "        # GeoJSON schreiben (nur relevante Spalten speichern)\n",
    "        gdf[[\"Gemeindename\", \"geometry\"]].to_file(geojson_pfad, driver=\"GeoJSON\")\n",
    "        print(f\"GeoJSON erfolgreich gespeichert unter: {geojson_pfad}\")\n",
    "\n",
    "# Beispielnutzung\n",
    "zip_pfad = \"data/swissboundaries3d_2025-04_2056_5728.gpkg.zip\"\n",
    "geojson_pfad = \"data/swissBOUNDARIES3D_1_3_TLM_GEMEINDEGEBIET.geojson\"\n",
    "\n",
    "zip_gpkg_to_geojson_with_names(zip_pfad, geojson_pfad)\n"
   ]
  }
 ],
 "metadata": {
  "kernelspec": {
   "display_name": "4040_geopython310",
   "language": "python",
   "name": "python3"
  },
  "language_info": {
   "codemirror_mode": {
    "name": "ipython",
    "version": 3
   },
   "file_extension": ".py",
   "mimetype": "text/x-python",
   "name": "python",
   "nbconvert_exporter": "python",
   "pygments_lexer": "ipython3",
   "version": "3.10.16"
  }
 },
 "nbformat": 4,
 "nbformat_minor": 5
}

{
 "cells": [
  {
   "cell_type": "code",
   "execution_count": 1,
   "id": "b04e6db5",
   "metadata": {},
   "outputs": [
    {
     "name": "stdout",
     "output_type": "stream",
     "text": [
      "LineString    6674\n",
      "Name: count, dtype: int64\n"
     ]
    }
   ],
   "source": [
    "import geopandas as gpd\n",
    "\n",
    "gdf = gpd.read_file(\"swissBOUNDARIES3D_1_3_TLM_GEMEINDEGRENZEN.geojson\")\n",
    "\n",
    "print(gdf.geom_type.value_counts())\n"
   ]
  },
  {
   "cell_type": "code",
   "execution_count": 2,
   "id": "1932e3b7",
   "metadata": {},
   "outputs": [
    {
     "name": "stdout",
     "output_type": "stream",
     "text": [
      "LineString    6674\n",
      "Name: count, dtype: int64\n",
      "Fertig! GeoJSON mit Flächen gespeichert.\n"
     ]
    }
   ],
   "source": [
    "import geopandas as gpd\n",
    "from shapely.ops import polygonize\n",
    "from shapely.geometry import MultiLineString\n",
    "\n",
    "# GeoJSON mit Linien laden\n",
    "gdf = gpd.read_file(\"swissBOUNDARIES3D_1_3_TLM_GEMEINDEGRENZEN.geojson\")\n",
    "\n",
    "# Prüfen, ob Geometrien LineStrings sind\n",
    "print(gdf.geom_type.value_counts())\n",
    "\n",
    "# Alle Linien zusammenfassen\n",
    "linien = gdf.geometry.values\n",
    "mls = MultiLineString(linien)\n",
    "\n",
    "# Linien zu Polygonen zusammenfügen\n",
    "polygone = list(polygonize(mls))\n",
    "\n",
    "# Neues GeoDataFrame mit Polygonen erstellen\n",
    "gdf_polygone = gpd.GeoDataFrame(geometry=polygone, crs=gdf.crs)\n",
    "\n",
    "# Speichern als neues GeoJSON mit Flächen\n",
    "gdf_polygone.to_file(\"swissBOUNDARIES3D_1_3_TLM_GEMEINDEGEBIET.geojson\", driver=\"GeoJSON\")\n",
    "\n",
    "print(\"Fertig! GeoJSON mit Flächen gespeichert.\")\n"
   ]
  },
  {
   "cell_type": "code",
   "execution_count": 3,
   "id": "859e5cba",
   "metadata": {},
   "outputs": [
    {
     "name": "stdout",
     "output_type": "stream",
     "text": [
      "Polygon    2255\n",
      "Name: count, dtype: int64\n"
     ]
    }
   ],
   "source": [
    "import geopandas as gpd\n",
    "\n",
    "gdf = gpd.read_file(\"swissBOUNDARIES3D_1_3_TLM_GEMEINDEGEBIET.geojson\")\n",
    "\n",
    "print(gdf.geom_type.value_counts())"
   ]
  }
 ],
 "metadata": {
  "kernelspec": {
   "display_name": "4040_geopython310",
   "language": "python",
   "name": "python3"
  },
  "language_info": {
   "codemirror_mode": {
    "name": "ipython",
    "version": 3
   },
   "file_extension": ".py",
   "mimetype": "text/x-python",
   "name": "python",
   "nbconvert_exporter": "python",
   "pygments_lexer": "ipython3",
   "version": "3.10.16"
  }
 },
 "nbformat": 4,
 "nbformat_minor": 5
}
